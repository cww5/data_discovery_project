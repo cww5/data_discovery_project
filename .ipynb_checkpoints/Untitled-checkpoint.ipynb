{
 "cells": [
  {
   "cell_type": "code",
   "execution_count": 3,
   "metadata": {},
   "outputs": [],
   "source": [
    "import numpy as np\n",
    "import pandas as pd\n",
    "pd.set_option('display.max_columns', 999)\n",
    "import matplotlib.pyplot as plt\n",
    "%matplotlib inline"
   ]
  },
  {
   "cell_type": "markdown",
   "metadata": {},
   "source": [
    "# Links for the Related Data Sets"
   ]
  },
  {
   "cell_type": "code",
   "execution_count": 4,
   "metadata": {},
   "outputs": [],
   "source": [
    "# Rooftop Drinking Water Tank Inspection Results\n",
    "rooftop_water = 'https://data.cityofnewyork.us/resource/gjm4-k24g.json'"
   ]
  },
  {
   "cell_type": "code",
   "execution_count": 5,
   "metadata": {},
   "outputs": [],
   "source": [
    "# Drinking Water Quality Distribution Monitoring Data\n",
    "water_quality = 'https://data.cityofnewyork.us/resource/bkwf-xfky.json'"
   ]
  },
  {
   "cell_type": "code",
   "execution_count": 6,
   "metadata": {},
   "outputs": [],
   "source": [
    "# NYC Parks Drinking Fountains\n",
    "park_fountain = 'https://data.cityofnewyork.us/resource/bevm-apmm.json'"
   ]
  },
  {
   "cell_type": "code",
   "execution_count": 7,
   "metadata": {},
   "outputs": [],
   "source": [
    "# Water Consumption In The New York City\n",
    "water_consumption = 'https://data.cityofnewyork.us/resource/ia2d-e54m.json'"
   ]
  },
  {
   "cell_type": "code",
   "execution_count": 8,
   "metadata": {},
   "outputs": [],
   "source": [
    "# Natural Gas Consumption by ZIP Code - 2010\n",
    "gas_usage_2010 = 'https://data.cityofnewyork.us/resource/uedp-fegm.json'"
   ]
  },
  {
   "cell_type": "code",
   "execution_count": 9,
   "metadata": {},
   "outputs": [],
   "source": [
    "# Public Recycling Bins - and their Locations\n",
    "bin_locations = 'https://data.cityofnewyork.us/resource/sxx4-xhzg.json'"
   ]
  },
  {
   "cell_type": "code",
   "execution_count": 10,
   "metadata": {},
   "outputs": [],
   "source": [
    "# 2015 Street Tree Census - Tree Data\n",
    "tree_locations = 'https://data.cityofnewyork.us/resource/uvpi-gqnh.json'"
   ]
  },
  {
   "cell_type": "code",
   "execution_count": 11,
   "metadata": {},
   "outputs": [],
   "source": [
    "# NYC Urban Tree Canopy Assessment Metrics 2010\n",
    "tree_canopy = ''\n",
    "# No API link, have to download locally\n",
    "## https://data.cityofnewyork.us/Environment/NYC-Urban-Tree-Canopy-Assessment-Metrics-2010/hnxz-kkn5"
   ]
  },
  {
   "cell_type": "code",
   "execution_count": 12,
   "metadata": {},
   "outputs": [],
   "source": [
    "# Inventory of New York City Greenhouse Gas Emissions - City Government GHG Emissions Summary (2016)\n",
    "greenhouse_gas = 'https://data.cityofnewyork.us/resource/jat2-irw9.json'"
   ]
  },
  {
   "cell_type": "code",
   "execution_count": 13,
   "metadata": {},
   "outputs": [],
   "source": [
    "# Greenhouse Gas Emissions Yearly\n",
    "greenhouse_gas_yearly = 'https://data.cityofnewyork.us/resource/w5he-u64t.json'"
   ]
  },
  {
   "cell_type": "code",
   "execution_count": 14,
   "metadata": {},
   "outputs": [],
   "source": [
    "# Inventory of New York City Greenhouse Gas Emissions - Con Edison District Steam Emission Factors (2005-2016)\n",
    "greenhouse_con_ed = 'https://data.cityofnewyork.us/resource/ismp-xffj.json'"
   ]
  },
  {
   "cell_type": "code",
   "execution_count": 15,
   "metadata": {},
   "outputs": [],
   "source": [
    "# Inventory of New York City Greenhouse Gas Emissions - Heating And Cooling Degree Days (2004-2016) \n",
    "greenhouse_heating_cooling = 'https://data.cityofnewyork.us/resource/av3y-hmjv.json'"
   ]
  },
  {
   "cell_type": "code",
   "execution_count": 16,
   "metadata": {},
   "outputs": [],
   "source": [
    "# Inventory of New York City Greenhouse Gas Emissions - Fuel Emission Factors (2016)\n",
    "fuel_emission = 'https://data.cityofnewyork.us/resource/9jf7-zn7b.json'"
   ]
  },
  {
   "cell_type": "code",
   "execution_count": 17,
   "metadata": {},
   "outputs": [],
   "source": [
    "# Inventory of New York City Greenhouse Gas Emissions - Citywide GHG Emissions Summary (2016)\n",
    "ghg_emissions = 'https://data.cityofnewyork.us/resource/k3e2-emsq.json'"
   ]
  },
  {
   "cell_type": "code",
   "execution_count": 19,
   "metadata": {},
   "outputs": [],
   "source": [
    "# DSNY Graffitti Trafficking\n",
    "graffitti = 'https://data.cityofnewyork.us/resource/gpwd-npar.json'"
   ]
  },
  {
   "cell_type": "code",
   "execution_count": 20,
   "metadata": {},
   "outputs": [],
   "source": [
    "# NYC Dog Licensing Data Set\n",
    "dog_licensing = 'https://data.cityofnewyork.us/resource/nu7n-tubp.json'"
   ]
  },
  {
   "cell_type": "code",
   "execution_count": 22,
   "metadata": {},
   "outputs": [],
   "source": [
    "# Historical Hourly Weather Data 2012-2017\n",
    "# No link --> KAGGLE DOWNLOAD"
   ]
  },
  {
   "cell_type": "code",
   "execution_count": 23,
   "metadata": {},
   "outputs": [],
   "source": [
    "# NYC Municipal Building Energy Benchmarking Results\n",
    "municipal_benchmarks = 'https://data.cityofnewyork.us/resource/vvj6-d5qx.json'"
   ]
  },
  {
   "cell_type": "code",
   "execution_count": 24,
   "metadata": {},
   "outputs": [],
   "source": [
    "# NYC Municipal Building Energy Benchmarking Results (2014)\n",
    "municipal_benchmarks_2014 = 'https://data.cityofnewyork.us/resource/hpid-63r5.json'"
   ]
  },
  {
   "cell_type": "code",
   "execution_count": 25,
   "metadata": {},
   "outputs": [],
   "source": [
    "# Air Quality Testing at Saratoga Village\n",
    "saratoga_air = 'https://data.cityofnewyork.us/resource/dsyc-npkh.json'"
   ]
  },
  {
   "cell_type": "code",
   "execution_count": 26,
   "metadata": {},
   "outputs": [],
   "source": [
    "# Air Quality\n",
    "air_quality = 'https://data.cityofnewyork.us/resource/c3uy-2p5r.json'"
   ]
  },
  {
   "cell_type": "code",
   "execution_count": 27,
   "metadata": {},
   "outputs": [],
   "source": [
    "# Clean Air Survey Content (2009)\n",
    "# NO LINK --> ZIP FILE"
   ]
  },
  {
   "cell_type": "code",
   "execution_count": 29,
   "metadata": {},
   "outputs": [],
   "source": [
    "# DOHMH Indoor Environmental Complaints\n",
    "indoor_complaints = 'https://data.cityofnewyork.us/resource/9jgj-bmct.json'"
   ]
  },
  {
   "cell_type": "code",
   "execution_count": 30,
   "metadata": {},
   "outputs": [],
   "source": [
    "# Community Health Survey\n",
    "health_survey = 'https://data.cityofnewyork.us/resource/2r9r-m6j4.json'"
   ]
  },
  {
   "cell_type": "code",
   "execution_count": null,
   "metadata": {},
   "outputs": [],
   "source": []
  },
  {
   "cell_type": "code",
   "execution_count": null,
   "metadata": {},
   "outputs": [],
   "source": []
  },
  {
   "cell_type": "code",
   "execution_count": null,
   "metadata": {},
   "outputs": [],
   "source": []
  },
  {
   "cell_type": "code",
   "execution_count": null,
   "metadata": {},
   "outputs": [],
   "source": []
  },
  {
   "cell_type": "code",
   "execution_count": null,
   "metadata": {},
   "outputs": [],
   "source": []
  },
  {
   "cell_type": "code",
   "execution_count": null,
   "metadata": {},
   "outputs": [],
   "source": []
  },
  {
   "cell_type": "code",
   "execution_count": null,
   "metadata": {},
   "outputs": [],
   "source": []
  },
  {
   "cell_type": "code",
   "execution_count": null,
   "metadata": {},
   "outputs": [],
   "source": []
  },
  {
   "cell_type": "code",
   "execution_count": null,
   "metadata": {},
   "outputs": [],
   "source": []
  },
  {
   "cell_type": "code",
   "execution_count": null,
   "metadata": {},
   "outputs": [],
   "source": []
  },
  {
   "cell_type": "code",
   "execution_count": null,
   "metadata": {},
   "outputs": [],
   "source": []
  },
  {
   "cell_type": "code",
   "execution_count": null,
   "metadata": {},
   "outputs": [],
   "source": []
  },
  {
   "cell_type": "code",
   "execution_count": null,
   "metadata": {},
   "outputs": [],
   "source": []
  },
  {
   "cell_type": "code",
   "execution_count": null,
   "metadata": {},
   "outputs": [],
   "source": []
  },
  {
   "cell_type": "code",
   "execution_count": null,
   "metadata": {},
   "outputs": [],
   "source": []
  },
  {
   "cell_type": "code",
   "execution_count": null,
   "metadata": {},
   "outputs": [],
   "source": []
  },
  {
   "cell_type": "code",
   "execution_count": null,
   "metadata": {},
   "outputs": [],
   "source": []
  },
  {
   "cell_type": "code",
   "execution_count": null,
   "metadata": {},
   "outputs": [],
   "source": []
  },
  {
   "cell_type": "code",
   "execution_count": null,
   "metadata": {},
   "outputs": [],
   "source": []
  },
  {
   "cell_type": "code",
   "execution_count": null,
   "metadata": {},
   "outputs": [],
   "source": []
  },
  {
   "cell_type": "code",
   "execution_count": null,
   "metadata": {},
   "outputs": [],
   "source": []
  }
 ],
 "metadata": {
  "kernelspec": {
   "display_name": "Python 3",
   "language": "python",
   "name": "python3"
  },
  "language_info": {
   "codemirror_mode": {
    "name": "ipython",
    "version": 3
   },
   "file_extension": ".py",
   "mimetype": "text/x-python",
   "name": "python",
   "nbconvert_exporter": "python",
   "pygments_lexer": "ipython3",
   "version": "3.7.3"
  }
 },
 "nbformat": 4,
 "nbformat_minor": 2
}
